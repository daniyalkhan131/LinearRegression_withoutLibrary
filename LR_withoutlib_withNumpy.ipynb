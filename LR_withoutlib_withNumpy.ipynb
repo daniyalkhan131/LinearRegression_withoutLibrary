{
  "nbformat": 4,
  "nbformat_minor": 0,
  "metadata": {
    "colab": {
      "provenance": []
    },
    "kernelspec": {
      "name": "python3",
      "display_name": "Python 3"
    },
    "language_info": {
      "name": "python"
    }
  },
  "cells": [
    {
      "cell_type": "code",
      "execution_count": 40,
      "metadata": {
        "colab": {
          "base_uri": "https://localhost:8080/",
          "height": 569
        },
        "id": "GSoV_7EER0EE",
        "outputId": "572daaf2-6f97-46e4-f88d-861b1082b5dc"
      },
      "outputs": [
        {
          "output_type": "stream",
          "name": "stdout",
          "text": [
            "[[1, 3], [2, 5], [3, 7], [4, 4], [5, 11]]\n",
            "[[1]\n",
            " [2]\n",
            " [3]\n",
            " [4]\n",
            " [5]]\n",
            "[ 3  5  7  4 11]\n"
          ]
        },
        {
          "output_type": "execute_result",
          "data": {
            "text/plain": [
              "[<matplotlib.lines.Line2D at 0x7fb8dad35cf0>]"
            ]
          },
          "metadata": {},
          "execution_count": 40
        },
        {
          "output_type": "display_data",
          "data": {
            "text/plain": [
              "<Figure size 640x480 with 1 Axes>"
            ],
            "image/png": "[encoded data removed]"
          },
          "metadata": {}
        }
      ],
      "source": [
        "import numpy as np\n",
        "import math\n",
        "import matplotlib.pyplot as plt\n",
        "import copy, math\n",
        "ds=[[1,3],[2,5],[3,7],[4,4],[5,11]]\n",
        "print(ds)\n",
        "\n",
        "\n",
        "X=list()\n",
        "y=list()\n",
        "for i in ds:\n",
        "    X.append(i[0])\n",
        "    y.append(i[1])\n",
        "X=np.array(X).reshape(len(X),1)\n",
        "y=np.array(y)\n",
        "print(X)\n",
        "print(y)\n",
        "\n",
        "plt.plot(X,y,'go')"
      ]
    },
    {
      "cell_type": "code",
      "source": [
        "def predict1(X,w,b):\n",
        "    return np.dot(X,w)+b\n",
        "\n",
        "def cost_fnc(X,y,w,b):\n",
        "    m=X.shape[0]\n",
        "    return np.sum(((np.dot(X,w)+b)-y)**2)/(2*m)\n",
        "\n",
        "def gradient_np(X,y,w,b):\n",
        "    m=X.shape[0]\n",
        "    return (np.sum((np.dot(X,w)+b)-y))/m,(np.dot(((np.dot(X,w)+b)-y),X))/m\n",
        "    \n",
        "def descent_grad_np(X,y,w_in,b_in,cost_fnc,gradient_np,alpha,iters):\n",
        "    J_his=list()\n",
        "    w=copy.deepcopy(w_in)\n",
        "    b=b_in\n",
        "    for i in range(iters):\n",
        "        db,dw=gradient_np(X,y,w,b)\n",
        "        \n",
        "        w=w-alpha*dw\n",
        "        b=b-alpha*db\n",
        "        \n",
        "        if i<100000:\n",
        "            J_his.append(cost_fnc(X,y,w,b))\n",
        "            \n",
        "        if i%math.ceil(iters/10)==0:\n",
        "            print(f\"iteration{i}: Cost {J_his[i]}\")\n",
        "\n",
        "    YY= predict1(X,w,b)\n",
        "    plt.plot(X,YY,'r-')\n",
        "\n",
        "    return cost_fnc(X,y,w,b)"
      ],
      "metadata": {
        "id": "Z0LNrAkHSD1y"
      },
      "execution_count": 41,
      "outputs": []
    },
    {
      "cell_type": "code",
      "source": [],
      "metadata": {
        "id": "6ngN14lrSaEn"
      },
      "execution_count": 41,
      "outputs": []
    },
    {
      "cell_type": "code",
      "source": [],
      "metadata": {
        "id": "mV3G0yugSwy1"
      },
      "execution_count": 41,
      "outputs": []
    },
    {
      "cell_type": "code",
      "source": [
        "meansq=list()\n",
        "alpha=0.01\n",
        "w_in=np.zeros(X.shape[1])\n",
        "b_in=0\n",
        "iter_list=list()\n",
        "for i in range(10,50,10):\n",
        "    iter_list.append(i)\n",
        "    meansq.append(descent_grad_np(X,y,w_in,b_in,cost_fnc,gradient_np,alpha,i))\n",
        "plt.plot(X,y,'go')"
      ],
      "metadata": {
        "id": "RZhGZ6sf4w_c",
        "colab": {
          "base_uri": "https://localhost:8080/",
          "height": 1000
        },
        "outputId": "6019b3f7-bc41-46f5-ec36-02aaea24cac1"
      },
      "execution_count": 42,
      "outputs": [
        {
          "output_type": "stream",
          "name": "stdout",
          "text": [
            "iteration0: Cost 17.512150000000002\n",
            "iteration1: Cost 14.023325290000002\n",
            "iteration2: Cost 11.311121197174\n",
            "iteration3: Cost 9.202645197775585\n",
            "iteration4: Cost 7.563494428656087\n",
            "iteration5: Cost 6.289187046063062\n",
            "iteration6: Cost 5.298501151585936\n",
            "iteration7: Cost 4.528296619034517\n",
            "iteration8: Cost 3.9294896960336785\n",
            "iteration9: Cost 3.4639237474416533\n",
            "iteration0: Cost 17.512150000000002\n",
            "iteration2: Cost 11.311121197174\n",
            "iteration4: Cost 7.563494428656087\n",
            "iteration6: Cost 5.298501151585936\n",
            "iteration8: Cost 3.9294896960336785\n",
            "iteration10: Cost 3.101936639800419\n",
            "iteration12: Cost 2.601597541390774\n",
            "iteration14: Cost 2.2990008924883876\n",
            "iteration16: Cost 2.115904885532656\n",
            "iteration18: Cost 2.0050266776171046\n",
            "iteration0: Cost 17.512150000000002\n",
            "iteration3: Cost 9.202645197775585\n",
            "iteration6: Cost 5.298501151585936\n",
            "iteration9: Cost 3.4639237474416533\n",
            "iteration12: Cost 2.601597541390774\n",
            "iteration15: Cost 2.1960227998589934\n",
            "iteration18: Cost 2.0050266776171046\n",
            "iteration21: Cost 1.9148405418163439\n",
            "iteration24: Cost 1.8720178227838509\n",
            "iteration27: Cost 1.851450206037984\n",
            "iteration0: Cost 17.512150000000002\n",
            "iteration4: Cost 7.563494428656087\n",
            "iteration8: Cost 3.9294896960336785\n",
            "iteration12: Cost 2.601597541390774\n",
            "iteration16: Cost 2.115904885532656\n",
            "iteration20: Cost 1.9377924457934683\n",
            "iteration24: Cost 1.8720178227838509\n",
            "iteration28: Cost 1.847278613697604\n",
            "iteration32: Cost 1.837535142488536\n",
            "iteration36: Cost 1.833277623608731\n"
          ]
        },
        {
          "output_type": "execute_result",
          "data": {
            "text/plain": [
              "[<matplotlib.lines.Line2D at 0x7fb8dacdf760>]"
            ]
          },
          "metadata": {},
          "execution_count": 42
        },
        {
          "output_type": "display_data",
          "data": {
            "text/plain": [
              "<Figure size 640x480 with 1 Axes>"
            ],
            "image/png": "[encoded data removed]"
          },
          "metadata": {}
        }
      ]
    },
    {
      "cell_type": "code",
      "source": [],
      "metadata": {
        "id": "8bDHQSq8iNoJ"
      },
      "execution_count": 42,
      "outputs": []
    },
    {
      "cell_type": "code",
      "source": [],
      "metadata": {
        "id": "RoqXgy2ziUqC"
      },
      "execution_count": 42,
      "outputs": []
    },
    {
      "cell_type": "code",
      "source": [],
      "metadata": {
        "id": "sU78RNQLw8k8"
      },
      "execution_count": 42,
      "outputs": []
    },
    {
      "cell_type": "code",
      "source": [],
      "metadata": {
        "id": "qaeU7LLWxEYI"
      },
      "execution_count": 42,
      "outputs": []
    }
  ]
}