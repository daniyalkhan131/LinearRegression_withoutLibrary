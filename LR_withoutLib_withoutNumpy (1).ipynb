{
  "nbformat": 4,
  "nbformat_minor": 0,
  "metadata": {
    "colab": {
      "provenance": []
    },
    "kernelspec": {
      "name": "python3",
      "display_name": "Python 3"
    },
    "language_info": {
      "name": "python"
    }
  },
  "cells": [
    {
      "cell_type": "code",
      "execution_count": 13,
      "metadata": {
        "colab": {
          "base_uri": "https://localhost:8080/"
        },
        "id": "SwvRqcme7f1e",
        "outputId": "a2c10d8f-d847-4577-a65a-33dc51b2af94"
      },
      "outputs": [
        {
          "output_type": "stream",
          "name": "stdout",
          "text": [
            "[[1, 3], [2, 5], [3, 7], [4, 4], [5, 11]]\n"
          ]
        }
      ],
      "source": [
        "import matplotlib.pyplot as plt\n",
        "ds=[[1,3],[2,5],[3,7],[4,4],[5,11]]\n",
        "print(ds)"
      ]
    },
    {
      "cell_type": "code",
      "source": [
        "X=list()\n",
        "y=list()\n",
        "for i in ds:\n",
        "    X.append(i[0])\n",
        "    y.append(i[1])\n",
        "print(X)\n",
        "print(y)\n",
        "\n",
        "plt.plot(X,y,'go')"
      ],
      "metadata": {
        "id": "TM5BVuDp7uh7",
        "colab": {
          "base_uri": "https://localhost:8080/",
          "height": 482
        },
        "outputId": "c4c0e398-3f2e-447f-a033-3e28d8dd5869"
      },
      "execution_count": 14,
      "outputs": [
        {
          "output_type": "stream",
          "name": "stdout",
          "text": [
            "[1, 2, 3, 4, 5]\n",
            "[3, 5, 7, 4, 11]\n"
          ]
        },
        {
          "output_type": "execute_result",
          "data": {
            "text/plain": [
              "[<matplotlib.lines.Line2D at 0x7f2b6c56fbb0>]"
            ]
          },
          "metadata": {},
          "execution_count": 14
        },
        {
          "output_type": "display_data",
          "data": {
            "text/plain": [
              "<Figure size 640x480 with 1 Axes>"
            ],
            "image/png": "[encoded data removed]"
          },
          "metadata": {}
        }
      ]
    },
    {
      "cell_type": "code",
      "source": [
        "def calc_fn(X,m,c):\n",
        "    fn=list()\n",
        "    for i in X:\n",
        "        fn.append(i*m+c)\n",
        "    return fn\n",
        "\n",
        "def subtract(l1,l2):\n",
        "    sub=list()\n",
        "    for i,j in zip(l1,l2):\n",
        "        sub.append(i-j)\n",
        "    return sub\n",
        "\n",
        "def squar(l1):\n",
        "    sqr=list()\n",
        "    for i in l1:\n",
        "        sqr.append(i**2)\n",
        "    return sqr\n",
        "        \n",
        "def multi(l1,l2):\n",
        "    mult=list()\n",
        "    for i,j in zip(l1,l2):\n",
        "        mult.append(i*j)\n",
        "    return mult\n",
        "\n",
        "def summ(l1):\n",
        "    sum=0\n",
        "    for i in l1:\n",
        "        sum=sum+i\n",
        "    return sum\n",
        "\n",
        "def cost_func(X,y,m,c):\n",
        "    return (1/2*len(X))*summ(squar(subtract(calc_fn(X,m,c),y)))"
      ],
      "metadata": {
        "id": "FpahyS-S7wpl"
      },
      "execution_count": 15,
      "outputs": []
    },
    {
      "cell_type": "code",
      "source": [
        "def gradient_desc(X,y,iterations):\n",
        "    \n",
        "    meansq=0\n",
        "    c,m=0,0\n",
        "\n",
        "    size=len(X)\n",
        "    alpha=0.07\n",
        "    for i in range(iterations):\n",
        "        t1=c-alpha*((1/size)*summ(subtract(calc_fn(X,m,c),y)))\n",
        "        t2=m-alpha*((1/size)*summ(multi((subtract(calc_fn(X,m,c),y)),X)))\n",
        "        c=t1\n",
        "        m=t2\n",
        "    print(m,c)\n",
        "    print(cost_func(X,y,m,c))\n",
        "    \n",
        "    \n",
        "    YY=list()\n",
        "    for i in X:\n",
        "        YY.append(i*m+c)\n",
        "    plt.plot(X,YY,'r-')\n",
        "    \n",
        "    \n",
        "    return cost_func(X,y,m,c)"
      ],
      "metadata": {
        "id": "vvWYgss47y5Q"
      },
      "execution_count": 16,
      "outputs": []
    },
    {
      "cell_type": "code",
      "source": [
        "meansq=list()\n",
        "iter_list=list()\n",
        "for i in range(100,1000,100):\n",
        "    iter_list.append(i)\n",
        "    meansq.append(gradient_desc(X,y,i))\n",
        "plt.plot(X,y,'go')"
      ],
      "metadata": {
        "colab": {
          "base_uri": "https://localhost:8080/",
          "height": 760
        },
        "id": "F_tIp2tM707F",
        "outputId": "bd9f50c0-4148-40d8-8c4e-267ab4b21ad9"
      },
      "execution_count": 17,
      "outputs": [
        {
          "output_type": "stream",
          "name": "stdout",
          "text": [
            "1.584841724885918 1.1936944530283076\n",
            "43.96346804400257\n",
            "1.5258004921352517 1.4068520369399182\n",
            "43.76974103288497\n",
            "1.5078459672444928 1.4716735687354556\n",
            "43.751825605238395\n",
            "1.5023859700690572 1.4913858909865\n",
            "43.75016882776631\n",
            "1.5007255769738819 1.497380436899959\n",
            "43.75001561280284\n",
            "1.5002206490147783 1.4992033870450974\n",
            "43.75000144383604\n",
            "1.5000670996868355 1.4997577488399083\n",
            "43.75000013352263\n",
            "1.5000204051125174 1.4999263310693047\n",
            "43.750000012347876\n",
            "1.5000062052244427 1.4999775971708544\n",
            "43.750000001141906\n"
          ]
        },
        {
          "output_type": "execute_result",
          "data": {
            "text/plain": [
              "[<matplotlib.lines.Line2D at 0x7f2b6c42e590>]"
            ]
          },
          "metadata": {},
          "execution_count": 17
        },
        {
          "output_type": "display_data",
          "data": {
            "text/plain": [
              "<Figure size 640x480 with 1 Axes>"
            ],
            "image/png": "[encoded data removed]"
          },
          "metadata": {}
        }
      ]
    },
    {
      "cell_type": "code",
      "source": [
        "plt.plot(iter_list,meansq)\n"
      ],
      "metadata": {
        "colab": {
          "base_uri": "https://localhost:8080/",
          "height": 447
        },
        "id": "B_wFCB_973Kw",
        "outputId": "222c1515-24d0-461f-b602-653cece39ad6"
      },
      "execution_count": 18,
      "outputs": [
        {
          "output_type": "execute_result",
          "data": {
            "text/plain": [
              "[<matplotlib.lines.Line2D at 0x7f2b6c497700>]"
            ]
          },
          "metadata": {},
          "execution_count": 18
        },
        {
          "output_type": "display_data",
          "data": {
            "text/plain": [
              "<Figure size 640x480 with 1 Axes>"
            ],
            "image/png": "[encoded data removed]"
          },
          "metadata": {}
        }
      ]
    },
    {
      "cell_type": "code",
      "source": [
        "calc_fn(X,1.5000062052244427,1.4999775971708544)"
      ],
      "metadata": {
        "colab": {
          "base_uri": "https://localhost:8080/"
        },
        "id": "-XC4xyez75u3",
        "outputId": "5b2ba545-4870-451d-a605-0a6fb076590a"
      },
      "execution_count": 19,
      "outputs": [
        {
          "output_type": "execute_result",
          "data": {
            "text/plain": [
              "[2.999983802395297,\n",
              " 4.49999000761974,\n",
              " 5.999996212844183,\n",
              " 7.500002418068625,\n",
              " 9.000008623293068]"
            ]
          },
          "metadata": {},
          "execution_count": 19
        }
      ]
    },
    {
      "cell_type": "code",
      "source": [],
      "metadata": {
        "id": "dCsErNLC78DG"
      },
      "execution_count": 19,
      "outputs": []
    }
  ]
}